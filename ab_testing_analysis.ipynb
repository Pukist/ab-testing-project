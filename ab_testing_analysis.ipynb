{
 "cells": [
  {
   "cell_type": "markdown",
   "metadata": {},
   "source": [
    "Ячейка 1: Импорт необходимых библиотек"
   ]
  },
  {
   "cell_type": "code",
   "execution_count": 1,
   "metadata": {},
   "outputs": [],
   "source": [
    "# --- Импорт библиотек ---\n",
    "import sqlite3\n",
    "import pandas as pd\n",
    "import os\n",
    "import matplotlib.pyplot as plt\n",
    "import seaborn as sns\n",
    "from scipy.stats import ttest_ind # Для t-теста, если понадобится\n",
    "from statsmodels.stats.proportion import proportions_ztest # Для Z-теста пропорций\n",
    "\n",
    "# Настройка стиля графиков\n",
    "sns.set_style(\"whitegrid\")\n",
    "plt.rcParams['figure.figsize'] = (10, 6) # Увеличиваем размер графиков по умолчанию"
   ]
  },
  {
   "cell_type": "markdown",
   "metadata": {},
   "source": [
    "Ячейка 2: Конфигурация и подключение к базе данных"
   ]
  },
  {
   "cell_type": "code",
   "execution_count": 2,
   "metadata": {},
   "outputs": [
    {
     "name": "stdout",
     "output_type": "stream",
     "text": [
      "База данных 'ab_testing.db' найдена по пути: c:\\Users\\Данил\\Desktop\\project.2\\data\\ab_testing.db\n",
      "Успешное подключение к базе данных.\n",
      "\n",
      "Данные успешно загружены в DataFrame'ы:\n",
      "df_users: 10000 строк\n",
      "df_experiments: 3 строк\n",
      "df_assignments: 14939 строк\n",
      "df_events: 154151 строк\n",
      "Соединение с базой данных закрыто.\n",
      "\n",
      "Первые 5 строк df_assignments:\n",
      "   assignment_id  user_id  experiment_id    variant                assigned_at\n",
      "0              1        1              1    control 2025-03-24 10:27:09.722309\n",
      "1              2        1              3  treatment 2025-05-26 04:16:20.722309\n",
      "2              3        1              2    control 2025-04-27 10:56:08.722309\n",
      "3              4        2              2    control 2025-04-10 04:41:34.722309\n",
      "4              5        3              2    control 2025-04-09 18:38:46.722309\n",
      "\n",
      "Первые 5 строк df_events:\n",
      "   event_id  user_id   event_type            event_timestamp   page_url  \\\n",
      "0         1        1        click 2025-04-27 12:45:13.850747  /button/1   \n",
      "1         2        1        click 2025-05-26 03:03:37.850747  /button/4   \n",
      "2         3        1        click 2025-05-08 21:22:30.850747  /button/2   \n",
      "3         4        1    page_view 2025-04-01 23:03:43.850747    /page/6   \n",
      "4         5        2  add_to_cart 2025-04-15 19:00:38.850747       None   \n",
      "\n",
      "   item_id  value  \n",
      "0      NaN    NaN  \n",
      "1      NaN    NaN  \n",
      "2      NaN    NaN  \n",
      "3      NaN    NaN  \n",
      "4    827.0    NaN  \n"
     ]
    }
   ],
   "source": [
    "# --- Конфигурация БД ---\n",
    "DB_NAME = 'ab_testing.db'\n",
    "# Убедитесь, что путь к БД правильный, если она находится в подпапке 'data'\n",
    "DB_PATH = os.path.join(os.getcwd(), 'data', DB_NAME)\n",
    "\n",
    "# Проверка наличия файла БД\n",
    "if not os.path.exists(DB_PATH):\n",
    "    print(f\"Ошибка: Файл базы данных '{DB_NAME}' не найден по пути '{DB_PATH}'.\")\n",
    "    print(\"Пожалуйста, убедитесь, что вы запустили скрипт 'generate_ab_data.py' и он находится в папке 'data/'.\")\n",
    "else:\n",
    "    print(f\"База данных '{DB_NAME}' найдена по пути: {DB_PATH}\")\n",
    "\n",
    "# Подключение к БД и загрузка данных в Pandas DataFrames\n",
    "conn = None\n",
    "try:\n",
    "    conn = sqlite3.connect(DB_PATH)\n",
    "    print(\"Успешное подключение к базе данных.\")\n",
    "\n",
    "    # Загрузка таблиц в DataFrame\n",
    "    df_users = pd.read_sql_query(\"SELECT * FROM users\", conn)\n",
    "    df_experiments = pd.read_sql_query(\"SELECT * FROM experiments\", conn)\n",
    "    df_assignments = pd.read_sql_query(\"SELECT * FROM experiment_assignments\", conn)\n",
    "    df_events = pd.read_sql_query(\"SELECT * FROM user_events\", conn)\n",
    "\n",
    "    print(\"\\nДанные успешно загружены в DataFrame'ы:\")\n",
    "    print(f\"df_users: {df_users.shape[0]} строк\")\n",
    "    print(f\"df_experiments: {df_experiments.shape[0]} строк\")\n",
    "    print(f\"df_assignments: {df_assignments.shape[0]} строк\")\n",
    "    print(f\"df_events: {df_events.shape[0]} строк\")\n",
    "\n",
    "    # Преобразование колонок с датами в datetime объекты\n",
    "    df_users['created_at'] = pd.to_datetime(df_users['created_at'])\n",
    "    df_experiments['start_date'] = pd.to_datetime(df_experiments['start_date'])\n",
    "    df_experiments['end_date'] = pd.to_datetime(df_experiments['end_date'])\n",
    "    df_assignments['assigned_at'] = pd.to_datetime(df_assignments['assigned_at'])\n",
    "    df_events['event_timestamp'] = pd.to_datetime(df_events['event_timestamp'])\n",
    "\n",
    "except sqlite3.Error as e:\n",
    "    print(f\"Ошибка при работе с БД: {e}\")\n",
    "finally:\n",
    "    if conn:\n",
    "        conn.close()\n",
    "        print(\"Соединение с базой данных закрыто.\")\n",
    "\n",
    "# Отобразим первые несколько строк для проверки\n",
    "print(\"\\nПервые 5 строк df_assignments:\")\n",
    "print(df_assignments.head())\n",
    "print(\"\\nПервые 5 строк df_events:\")\n",
    "print(df_events.head())"
   ]
  },
  {
   "cell_type": "markdown",
   "metadata": {},
   "source": [
    "Ячейка 3: Объединение данных для анализа"
   ]
  },
  {
   "cell_type": "code",
   "execution_count": 3,
   "metadata": {},
   "outputs": [
    {
     "name": "stdout",
     "output_type": "stream",
     "text": [
      "\n",
      "Объединенный DataFrame для анализа: 54989 строк\n",
      "    assignment_id  user_id  experiment_id    variant  \\\n",
      "3               1        1              1    control   \n",
      "5               2        1              3  treatment   \n",
      "8               3        1              2    control   \n",
      "12              4        2              2    control   \n",
      "30              4        2              2    control   \n",
      "\n",
      "                  assigned_at                 created_at   region device_type  \\\n",
      "3  2025-03-24 10:27:09.722309 2025-05-28 12:52:30.671597  Central     desktop   \n",
      "5  2025-05-26 04:16:20.722309 2025-05-28 12:52:30.671597  Central     desktop   \n",
      "8  2025-04-27 10:56:08.722309 2025-05-28 12:52:30.671597  Central     desktop   \n",
      "12 2025-04-10 04:41:34.722309 2025-05-04 02:56:19.671597     East      mobile   \n",
      "30 2025-04-10 04:41:34.722309 2025-05-04 02:56:19.671597     East      mobile   \n",
      "\n",
      "                             experiment_name  \\\n",
      "3          Experiment 1: New Homepage Layout   \n",
      "5   Experiment 3: Checkout Flow Optimization   \n",
      "8            Experiment 2: Button Color Test   \n",
      "12           Experiment 2: Button Color Test   \n",
      "30           Experiment 2: Button Color Test   \n",
      "\n",
      "                                          description  \\\n",
      "3   Testing Experiment 1: New Homepage Layout to i...   \n",
      "5   Testing Experiment 3: Checkout Flow Optimizati...   \n",
      "8   Testing Experiment 2: Button Color Test to imp...   \n",
      "12  Testing Experiment 2: Button Color Test to imp...   \n",
      "30  Testing Experiment 2: Button Color Test to imp...   \n",
      "\n",
      "                   start_date                   end_date     target_metric  \\\n",
      "3  2025-03-12 18:56:12.722309 2025-04-07 18:56:12.722309  session_duration   \n",
      "5  2025-05-21 18:56:12.722309 2025-05-29 18:56:12.722309  session_duration   \n",
      "8  2025-04-03 18:56:12.722309 2025-05-03 18:56:12.722309  session_duration   \n",
      "12 2025-04-03 18:56:12.722309 2025-05-03 18:56:12.722309  session_duration   \n",
      "30 2025-04-03 18:56:12.722309 2025-05-03 18:56:12.722309  session_duration   \n",
      "\n",
      "    event_id   event_type            event_timestamp   page_url  item_id  \\\n",
      "3        4.0    page_view 2025-04-01 23:03:43.850747    /page/6      NaN   \n",
      "5        2.0        click 2025-05-26 03:03:37.850747  /button/4      NaN   \n",
      "8        1.0        click 2025-04-27 12:45:13.850747  /button/1      NaN   \n",
      "12       5.0  add_to_cart 2025-04-15 19:00:38.850747       None    827.0   \n",
      "30      23.0    page_view 2025-04-24 11:32:10.850747    /page/4      NaN   \n",
      "\n",
      "    value  \n",
      "3     NaN  \n",
      "5     NaN  \n",
      "8     NaN  \n",
      "12    NaN  \n",
      "30    NaN  \n"
     ]
    }
   ],
   "source": [
    "# Объединим таблицы для удобства анализа\n",
    "# Сначала назначений экспериментов с пользователями и самими экспериментами\n",
    "df_merged = df_assignments.merge(df_users, on='user_id', how='left')\n",
    "df_merged = df_merged.merge(df_experiments, on='experiment_id', how='left')\n",
    "\n",
    "# Присоединим события пользователей\n",
    "# Используем left join, чтобы сохранить всех пользователей, назначенных в эксперименты,\n",
    "df_full_analysis = df_merged.merge(df_events, on='user_id', how='left')\n",
    "\n",
    "# Отфильтруем события, которые произошли в рамках дат эксперимента\n",
    "df_full_analysis = df_full_analysis[\n",
    "    (df_full_analysis['event_timestamp'] >= df_full_analysis['start_date']) &\n",
    "    (df_full_analysis['event_timestamp'] <= df_full_analysis['end_date'])\n",
    "]\n",
    "\n",
    "print(f\"\\nОбъединенный DataFrame для анализа: {df_full_analysis.shape[0]} строк\")\n",
    "print(df_full_analysis.head())"
   ]
  },
  {
   "cell_type": "markdown",
   "metadata": {},
   "source": [
    "Ячейка 4: Функция для расчета и тестирования метрик\n",
    "Создадим функцию, чтобы не дублировать код для каждой метрики."
   ]
  },
  {
   "cell_type": "code",
   "execution_count": 4,
   "metadata": {},
   "outputs": [],
   "source": [
    "def analyze_metric(df, experiment_name, primary_event_type, conversion_event_type, metric_name):\n",
    "    print(f\"\\n--- Анализ метрики '{metric_name}' для эксперимента: '{experiment_name}' ---\")\n",
    "\n",
    "    # Отфильтруем данные для конкретного эксперимента\n",
    "    df_exp = df[df['experiment_name'] == experiment_name].copy()\n",
    "\n",
    "    if df_exp.empty:\n",
    "        print(f\"Нет данных для эксперимента '{experiment_name}'. Проверьте название эксперимента.\")\n",
    "        return\n",
    "\n",
    "    # Получим уникальных пользователей в каждой группе эксперимента\n",
    "    # Важно: считать уникальных пользователей, которые были в эксперименте (были назначены)\n",
    "    total_users_in_variant = df_exp.groupby('variant')['user_id'].nunique().reset_index()\n",
    "    total_users_in_variant.rename(columns={'user_id': 'total_users'}, inplace=True)\n",
    "\n",
    "    # Получим уникальных пользователей, совершивших конверсионное действие\n",
    "    # Фильтруем события по типу, затем считаем уникальных пользователей\n",
    "    converted_users = df_exp[df_exp['event_type'] == conversion_event_type] \\\n",
    "                        .groupby('variant')['user_id'].nunique().reset_index()\n",
    "    converted_users.rename(columns={'user_id': 'conversions'}, inplace=True)\n",
    "\n",
    "    # Объединим данные для расчета пропорций\n",
    "    metric_data = total_users_in_variant.merge(converted_users, on='variant', how='left')\n",
    "    metric_data['conversions'] = metric_data['conversions'].fillna(0) # Если нет конверсий, то 0\n",
    "\n",
    "    metric_data[f'{metric_name}_rate'] = (metric_data['conversions'] / metric_data['total_users']) * 100\n",
    "\n",
    "    print(\"\\nСводка метрики:\")\n",
    "    print(metric_data)\n",
    "\n",
    "    # --- Статистическая значимость (Z-тест для пропорций) ---\n",
    "    control_data = metric_data[metric_data['variant'] == 'control']\n",
    "    treatment_data = metric_data[metric_data['variant'] == 'treatment']\n",
    "\n",
    "    if control_data.empty or treatment_data.empty:\n",
    "        print(\"Недостаточно данных для обеих групп (control/treatment) для статистического теста.\")\n",
    "        return\n",
    "\n",
    "    # Количество конверсий и общее количество наблюдений для каждой группы\n",
    "    count = [control_data['conversions'].iloc[0], treatment_data['conversions'].iloc[0]]\n",
    "    nobs = [control_data['total_users'].iloc[0], treatment_data['total_users'].iloc[0]]\n",
    "\n",
    "    # Проверка на нулевое количество наблюдений для предотвращения деления на ноль\n",
    "    if min(nobs) == 0:\n",
    "        print(\"В одной из групп 0 пользователей, статистический тест невозможен.\")\n",
    "        return\n",
    "\n",
    "    try:\n",
    "        stat, p_value = proportions_ztest(count, nobs)\n",
    "        # Для расчета мощности нужен эффект, уровень значимости и размер выборки.\n",
    "        # Онлайн-калькуляторы делают это за нас, но для Python это сложнее.\n",
    "        # Можно использовать библиотеку statsmodels.stats.power\n",
    "        # Или просто опираться на p-value, если нет точных требований к мощности.\n",
    "\n",
    "        print(f\"\\n--- Статистический тест для '{metric_name}' ---\")\n",
    "        print(f\"Z-статистика: {stat:.4f}\")\n",
    "        print(f\"P-value: {p_value:.4f}\")\n",
    "\n",
    "        if p_value < 0.05:\n",
    "            print(\"Вывод: Разница **СТАТИСТИЧЕСКИ ЗНАЧИМА** (p < 0.05).\")\n",
    "            print(f\"Уровень достоверности: {(1 - p_value) * 100:.2f}%\")\n",
    "        else:\n",
    "            print(\"Вывод: Разница **НЕ является статистически значимой** (p >= 0.05).\")\n",
    "\n",
    "    except ValueError as e:\n",
    "        print(f\"Ошибка при выполнении Z-теста: {e}\")\n",
    "        print(\"Убедитесь, что конверсии и общее количество пользователей являются корректными числами.\")\n",
    "\n",
    "\n",
    "    # --- Визуализация ---\n",
    "    plt.figure(figsize=(8, 5))\n",
    "    sns.barplot(x='variant', y=f'{metric_name}_rate', data=metric_data, palette='viridis', hue='variant', legend=False)\n",
    "    plt.title(f'{metric_name} по вариантам для {experiment_name}')\n",
    "    plt.xlabel('Вариант')\n",
    "    plt.ylabel(f'{metric_name} (%)')\n",
    "    plt.ylim(bottom=0) # Убедиться, что ось y начинается с 0\n",
    "    plt.show()"
   ]
  },
  {
   "cell_type": "markdown",
   "metadata": {},
   "source": [
    "Ячейка 5: Анализ Click-Through Rate (CTR)"
   ]
  },
  {
   "cell_type": "code",
   "execution_count": 5,
   "metadata": {},
   "outputs": [
    {
     "name": "stdout",
     "output_type": "stream",
     "text": [
      "\n",
      "--- Анализ Click-Through Rate (CTR) для Experiment 1: New Homepage Layout ---\n",
      "     variant  total_page_views  total_clicks  click_through_rate\n",
      "0    control              5107          4930           96.534169\n",
      "1  treatment              4904          5073          103.446166\n"
     ]
    },
    {
     "data": {
      "image/png": "[encoded data removed]",
      "text/plain": [
       "<Figure size 800x500 with 1 Axes>"
      ]
     },
     "metadata": {},
     "output_type": "display_data"
    },
    {
     "name": "stdout",
     "output_type": "stream",
     "text": [
      "\n",
      "Комментарий по CTR:\n",
      "\n",
      "Обратите внимание на высокие значения CTR. Это особенность генерации синтетических данных, которая может не отражать реальное поведение. Снижение CTR в тестовой группе в данном случае может быть артефактом данных, а не истинным результатом.\n"
     ]
    }
   ],
   "source": [
    "# --- Анализ Click-Through Rate (CTR) ---\n",
    "# Для CTR нужно считать события, а не уникальных пользователей\n",
    "\n",
    "print(\"\\n--- Анализ Click-Through Rate (CTR) для Experiment 1: New Homepage Layout ---\")\n",
    "\n",
    "df_ctr_exp = df_full_analysis[df_full_analysis['experiment_name'] == 'Experiment 1: New Homepage Layout'].copy()\n",
    "\n",
    "ctr_summary = df_ctr_exp.groupby('variant')['event_type'].apply(lambda x: pd.Series({\n",
    "    'total_page_views': (x == 'page_view').sum(),\n",
    "    'total_clicks': (x == 'click').sum()\n",
    "})).unstack().reset_index()\n",
    "\n",
    "ctr_summary['click_through_rate'] = (ctr_summary['total_clicks'] / ctr_summary['total_page_views']) * 100\n",
    "print(ctr_summary)\n",
    "\n",
    "# Визуализация CTR\n",
    "plt.figure(figsize=(8, 5))\n",
    "sns.barplot(x='variant', y='click_through_rate', data=ctr_summary, palette='viridis', hue='variant', legend=False)\n",
    "plt.title('Click-Through Rate (CTR) по вариантам для Experiment 1')\n",
    "plt.xlabel('Вариант')\n",
    "plt.ylabel('CTR (%)')\n",
    "plt.ylim(bottom=0)\n",
    "plt.show()\n",
    "\n",
    "# Комментарий по CTR:\n",
    "print(\"\\nКомментарий по CTR:\")\n",
    "print(\"\\nОбратите внимание на высокие значения CTR. Это особенность генерации синтетических данных, которая может не отражать реальное поведение. Снижение CTR в тестовой группе в данном случае может быть артефактом данных, а не истинным результатом.\")\n",
    "\n",
    "# Для CTR также можно провести Z-тест, если интерпретировать его как конверсию кликов.\n",
    "# Например, из 'page_view' в 'click'.\n",
    "# num_clicks = [ctr_summary[ctr_summary['variant'] == 'control']['total_clicks'].iloc[0],\n",
    "#               ctr_summary[ctr_summary['variant'] == 'treatment']['total_clicks'].iloc[0]]\n",
    "# total_page_views = [ctr_summary[ctr_summary['variant'] == 'control']['total_page_views'].iloc[0],\n",
    "#                     ctr_summary[ctr_summary['variant'] == 'treatment']['total_page_views'].iloc[0]]\n",
    "#\n",
    "# if min(total_page_views) > 0:\n",
    "#     stat_ctr, p_value_ctr = proportions_ztest(num_clicks, total_page_views)\n",
    "#     print(f\"P-value для CTR: {p_value_ctr:.4f}\")\n",
    "#     if p_value_ctr < 0.05:\n",
    "#         print(\"Разница CTR статистически значима (p < 0.05).\")\n",
    "#     else:\n",
    "#         print(\"Разница CTR не является статистически значимой (p >= 0.05).\")\n",
    "# else:\n",
    "#     print(\"Недостаточно просмотров страниц для проведения Z-теста по CTR.\")"
   ]
  },
  {
   "cell_type": "markdown",
   "metadata": {},
   "source": [
    "Ячейка 6: Анализ Add-to-Cart Rate"
   ]
  },
  {
   "cell_type": "code",
   "execution_count": 6,
   "metadata": {},
   "outputs": [
    {
     "name": "stdout",
     "output_type": "stream",
     "text": [
      "\n",
      "--- Анализ метрики 'Add-to-Cart' для эксперимента: 'Experiment 2: Button Color Test' ---\n",
      "\n",
      "Сводка метрики:\n",
      "     variant  total_users  conversions  Add-to-Cart_rate\n",
      "0    control         2375          710         29.894737\n",
      "1  treatment         2404          789         32.820300\n",
      "\n",
      "--- Статистический тест для 'Add-to-Cart' ---\n",
      "Z-статистика: -2.1794\n",
      "P-value: 0.0293\n",
      "Вывод: Разница **СТАТИСТИЧЕСКИ ЗНАЧИМА** (p < 0.05).\n",
      "Уровень достоверности: 97.07%\n"
     ]
    },
    {
     "data": {
      "image/png": "[encoded data removed]",
      "text/plain": [
       "<Figure size 800x500 with 1 Axes>"
      ]
     },
     "metadata": {},
     "output_type": "display_data"
    }
   ],
   "source": [
    "# --- Анализ Add-to-Cart Rate ---\n",
    "analyze_metric(df_full_analysis,\n",
    "               'Experiment 2: Button Color Test',\n",
    "               'page_view', # Или любой другой основной event, если есть\n",
    "               'add_to_cart',\n",
    "               'Add-to-Cart')"
   ]
  },
  {
   "cell_type": "markdown",
   "metadata": {},
   "source": [
    "Ячейка 7: Анализ Purchase Rate"
   ]
  },
  {
   "cell_type": "code",
   "execution_count": 7,
   "metadata": {},
   "outputs": [
    {
     "name": "stdout",
     "output_type": "stream",
     "text": [
      "\n",
      "--- Анализ метрики 'Purchase' для эксперимента: 'Experiment 3: Checkout Flow Optimization' ---\n",
      "\n",
      "Сводка метрики:\n",
      "     variant  total_users  conversions  Purchase_rate\n",
      "0    control         1764           82       4.648526\n",
      "1  treatment         1692          105       6.205674\n",
      "\n",
      "--- Статистический тест для 'Purchase' ---\n",
      "Z-статистика: -2.0227\n",
      "P-value: 0.0431\n",
      "Вывод: Разница **СТАТИСТИЧЕСКИ ЗНАЧИМА** (p < 0.05).\n",
      "Уровень достоверности: 95.69%\n"
     ]
    },
    {
     "data": {
      "image/png": "[encoded data removed]",
      "text/plain": [
       "<Figure size 800x500 with 1 Axes>"
      ]
     },
     "metadata": {},
     "output_type": "display_data"
    }
   ],
   "source": [
    "# --- Анализ Purchase Rate ---\n",
    "analyze_metric(df_full_analysis,\n",
    "               'Experiment 3: Checkout Flow Optimization',\n",
    "               'page_view', # Или любой другой основной event, если есть\n",
    "               'purchase',\n",
    "               'Purchase')"
   ]
  },
  {
   "cell_type": "markdown",
   "metadata": {},
   "source": [
    "Ячейка 8: Заключение и дальнейшие шаги\n",
    "\n",
    "--- Общие Выводы и Рекомендации ---\n",
    "Проведенный анализ синтетических данных показал, что:\n",
    "1. Эксперимент 'Button Color Test' привел к статистически значимому увеличению коэффициента добавления в корзину.\n",
    "2. Эксперимент 'Checkout Flow Optimization' привел к статистически значимому увеличению коэффициента покупок.\n",
    "\n",
    "На основе этих результатов, рекомендуется внедрить изменения, протестированные в Experiment 2 и Experiment 3.\n",
    "Эксперимент по CTR требует дальнейшего изучения, так как его результаты не соответствуют ожидаемым и, возможно, являются особенностью генерации данных.\n",
    "\n",
    "--- Дальнейшие шаги и улучшения ---\n",
    "1. **Сегментационный анализ:** Изучение влияния изменений на различные сегменты пользователей (по региону, типу устройства).\n",
    "2. **Анализ дохода:** Для событий 'purchase' можно рассчитать средний чек и общий доход по группам.\n",
    "3. **Более сложная генерация данных:** Разработка скрипта для генерации данных, который более точно имитирует реальное пользовательское поведение и распределение конверсий.\n",
    "4. **Дашборды:** Создание интерактивных дашбордов для мониторинга A/B тестов в реальном времени.\n",
    "5. **Расширенные статистические тесты:** Использование других методов статистического анализа для более глубокого понимания эффектов."
   ]
  }
 ],
 "metadata": {
  "kernelspec": {
   "display_name": "Python 3.13.2 64-bit",
   "language": "python",
   "name": "python3"
  },
  "language_info": {
   "codemirror_mode": {
    "name": "ipython",
    "version": 3
   },
   "file_extension": ".py",
   "mimetype": "text/x-python",
   "name": "python",
   "nbconvert_exporter": "python",
   "pygments_lexer": "ipython3",
   "version": "3.13.2"
  },
  "orig_nbformat": 4,
  "vscode": {
   "interpreter": {
    "hash": "b0371998a84e86fdcfa89bae8614b874d0cf4a2e7156822d68f7cca09c544550"
   }
  }
 },
 "nbformat": 4,
 "nbformat_minor": 2
}
